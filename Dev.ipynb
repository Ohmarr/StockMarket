{
 "cells": [
  {
   "cell_type": "code",
   "execution_count": 1,
   "metadata": {},
   "outputs": [],
   "source": [
    "# %pylab"
   ]
  },
  {
   "cell_type": "code",
   "execution_count": 2,
   "metadata": {},
   "outputs": [
    {
     "name": "stderr",
     "output_type": "stream",
     "text": [
      "/Volumes/MEDIA/ohm/anaconda3/envs/pythonomy/lib/python3.7/site-packages/pandas_datareader/compat/__init__.py:7: FutureWarning: pandas.util.testing is deprecated. Use the functions in the public API at pandas.testing instead.\n",
      "  from pandas.util.testing import assert_frame_equal\n"
     ]
    }
   ],
   "source": [
    "import pandas_datareader.data as web\n",
    "\n",
    "import matplotlib.pyplot as plt\n",
    "import pandas as pd"
   ]
  },
  {
   "cell_type": "markdown",
   "metadata": {},
   "source": [
    "symbol = 'WIKI/AAPL'\n",
    "df = web.DataReader(symbol, 'quandl', '2015-01-01', '2015-01-05')\n",
    "\n"
   ]
  },
  {
   "cell_type": "code",
   "execution_count": 3,
   "metadata": {},
   "outputs": [],
   "source": [
    "start_date = '2015-07-06'\n",
    "end_date = '2020-07-01'\n",
    "\n",
    "tickers = ['AAPL', 'MSFT', 'TSLA', 'XLNX']\n",
    "panel_data = web.DataReader(name=tickers, \n",
    "                             data_source='stooq', \n",
    "                             start=start_date, \n",
    "                             end=end_date)"
   ]
  },
  {
   "cell_type": "code",
   "execution_count": 4,
   "metadata": {},
   "outputs": [
    {
     "data": {
      "text/plain": [
       "pandas.core.frame.DataFrame"
      ]
     },
     "execution_count": 4,
     "metadata": {},
     "output_type": "execute_result"
    }
   ],
   "source": [
    "type(panel_data)"
   ]
  },
  {
   "cell_type": "code",
   "execution_count": 5,
   "metadata": {},
   "outputs": [
    {
     "data": {
      "text/html": [
       "<div>\n",
       "<style scoped>\n",
       "    .dataframe tbody tr th:only-of-type {\n",
       "        vertical-align: middle;\n",
       "    }\n",
       "\n",
       "    .dataframe tbody tr th {\n",
       "        vertical-align: top;\n",
       "    }\n",
       "\n",
       "    .dataframe thead tr th {\n",
       "        text-align: left;\n",
       "    }\n",
       "\n",
       "    .dataframe thead tr:last-of-type th {\n",
       "        text-align: right;\n",
       "    }\n",
       "</style>\n",
       "<table border=\"1\" class=\"dataframe\">\n",
       "  <thead>\n",
       "    <tr>\n",
       "      <th>Attributes</th>\n",
       "      <th colspan=\"4\" halign=\"left\">Close</th>\n",
       "      <th colspan=\"4\" halign=\"left\">High</th>\n",
       "      <th colspan=\"4\" halign=\"left\">Low</th>\n",
       "      <th colspan=\"4\" halign=\"left\">Open</th>\n",
       "      <th colspan=\"4\" halign=\"left\">Volume</th>\n",
       "    </tr>\n",
       "    <tr>\n",
       "      <th>Symbols</th>\n",
       "      <th>AAPL</th>\n",
       "      <th>MSFT</th>\n",
       "      <th>TSLA</th>\n",
       "      <th>XLNX</th>\n",
       "      <th>AAPL</th>\n",
       "      <th>MSFT</th>\n",
       "      <th>TSLA</th>\n",
       "      <th>XLNX</th>\n",
       "      <th>AAPL</th>\n",
       "      <th>MSFT</th>\n",
       "      <th>TSLA</th>\n",
       "      <th>XLNX</th>\n",
       "      <th>AAPL</th>\n",
       "      <th>MSFT</th>\n",
       "      <th>TSLA</th>\n",
       "      <th>XLNX</th>\n",
       "      <th>AAPL</th>\n",
       "      <th>MSFT</th>\n",
       "      <th>TSLA</th>\n",
       "      <th>XLNX</th>\n",
       "    </tr>\n",
       "    <tr>\n",
       "      <th>Date</th>\n",
       "      <th></th>\n",
       "      <th></th>\n",
       "      <th></th>\n",
       "      <th></th>\n",
       "      <th></th>\n",
       "      <th></th>\n",
       "      <th></th>\n",
       "      <th></th>\n",
       "      <th></th>\n",
       "      <th></th>\n",
       "      <th></th>\n",
       "      <th></th>\n",
       "      <th></th>\n",
       "      <th></th>\n",
       "      <th></th>\n",
       "      <th></th>\n",
       "      <th></th>\n",
       "      <th></th>\n",
       "      <th></th>\n",
       "      <th></th>\n",
       "    </tr>\n",
       "  </thead>\n",
       "  <tbody>\n",
       "    <tr>\n",
       "      <th>2020-07-01</th>\n",
       "      <td>364.01</td>\n",
       "      <td>204.70</td>\n",
       "      <td>1119.63</td>\n",
       "      <td>93.27</td>\n",
       "      <td>367.3600</td>\n",
       "      <td>206.35</td>\n",
       "      <td>1135.33</td>\n",
       "      <td>98.4000</td>\n",
       "      <td>363.91</td>\n",
       "      <td>201.7700</td>\n",
       "      <td>1080.5000</td>\n",
       "      <td>93.1800</td>\n",
       "      <td>365.12</td>\n",
       "      <td>203.1400</td>\n",
       "      <td>1083.00</td>\n",
       "      <td>98.09</td>\n",
       "      <td>27635351</td>\n",
       "      <td>32031722</td>\n",
       "      <td>13193927</td>\n",
       "      <td>4047680</td>\n",
       "    </tr>\n",
       "    <tr>\n",
       "      <th>2020-06-30</th>\n",
       "      <td>364.80</td>\n",
       "      <td>203.51</td>\n",
       "      <td>1079.81</td>\n",
       "      <td>98.39</td>\n",
       "      <td>365.9800</td>\n",
       "      <td>204.40</td>\n",
       "      <td>1087.69</td>\n",
       "      <td>99.3999</td>\n",
       "      <td>360.00</td>\n",
       "      <td>197.7400</td>\n",
       "      <td>1003.7300</td>\n",
       "      <td>94.2100</td>\n",
       "      <td>360.08</td>\n",
       "      <td>197.8816</td>\n",
       "      <td>1006.50</td>\n",
       "      <td>95.68</td>\n",
       "      <td>35055821</td>\n",
       "      <td>34310283</td>\n",
       "      <td>16918501</td>\n",
       "      <td>9279488</td>\n",
       "    </tr>\n",
       "    <tr>\n",
       "      <th>2020-06-29</th>\n",
       "      <td>361.78</td>\n",
       "      <td>198.44</td>\n",
       "      <td>1009.35</td>\n",
       "      <td>91.96</td>\n",
       "      <td>362.1736</td>\n",
       "      <td>198.53</td>\n",
       "      <td>1010.00</td>\n",
       "      <td>92.0000</td>\n",
       "      <td>351.28</td>\n",
       "      <td>193.5500</td>\n",
       "      <td>948.5201</td>\n",
       "      <td>90.7100</td>\n",
       "      <td>353.25</td>\n",
       "      <td>195.7800</td>\n",
       "      <td>969.01</td>\n",
       "      <td>91.30</td>\n",
       "      <td>32661519</td>\n",
       "      <td>26701586</td>\n",
       "      <td>9026404</td>\n",
       "      <td>2264371</td>\n",
       "    </tr>\n",
       "    <tr>\n",
       "      <th>2020-06-26</th>\n",
       "      <td>353.63</td>\n",
       "      <td>196.33</td>\n",
       "      <td>959.74</td>\n",
       "      <td>91.02</td>\n",
       "      <td>365.3200</td>\n",
       "      <td>199.89</td>\n",
       "      <td>995.00</td>\n",
       "      <td>92.5800</td>\n",
       "      <td>353.02</td>\n",
       "      <td>194.8800</td>\n",
       "      <td>954.8700</td>\n",
       "      <td>90.4061</td>\n",
       "      <td>364.41</td>\n",
       "      <td>199.7300</td>\n",
       "      <td>994.78</td>\n",
       "      <td>91.93</td>\n",
       "      <td>51314211</td>\n",
       "      <td>54675780</td>\n",
       "      <td>8854908</td>\n",
       "      <td>3279064</td>\n",
       "    </tr>\n",
       "    <tr>\n",
       "      <th>2020-06-25</th>\n",
       "      <td>364.84</td>\n",
       "      <td>200.34</td>\n",
       "      <td>985.98</td>\n",
       "      <td>93.29</td>\n",
       "      <td>365.0000</td>\n",
       "      <td>200.61</td>\n",
       "      <td>985.98</td>\n",
       "      <td>93.5500</td>\n",
       "      <td>357.57</td>\n",
       "      <td>195.4675</td>\n",
       "      <td>937.1500</td>\n",
       "      <td>91.0000</td>\n",
       "      <td>360.70</td>\n",
       "      <td>197.8000</td>\n",
       "      <td>954.27</td>\n",
       "      <td>92.65</td>\n",
       "      <td>34380628</td>\n",
       "      <td>27803933</td>\n",
       "      <td>9254549</td>\n",
       "      <td>2178478</td>\n",
       "    </tr>\n",
       "  </tbody>\n",
       "</table>\n",
       "</div>"
      ],
      "text/plain": [
       "Attributes   Close                              High                   \\\n",
       "Symbols       AAPL    MSFT     TSLA   XLNX      AAPL    MSFT     TSLA   \n",
       "Date                                                                    \n",
       "2020-07-01  364.01  204.70  1119.63  93.27  367.3600  206.35  1135.33   \n",
       "2020-06-30  364.80  203.51  1079.81  98.39  365.9800  204.40  1087.69   \n",
       "2020-06-29  361.78  198.44  1009.35  91.96  362.1736  198.53  1010.00   \n",
       "2020-06-26  353.63  196.33   959.74  91.02  365.3200  199.89   995.00   \n",
       "2020-06-25  364.84  200.34   985.98  93.29  365.0000  200.61   985.98   \n",
       "\n",
       "Attributes              Low                                  Open            \\\n",
       "Symbols        XLNX    AAPL      MSFT       TSLA     XLNX    AAPL      MSFT   \n",
       "Date                                                                          \n",
       "2020-07-01  98.4000  363.91  201.7700  1080.5000  93.1800  365.12  203.1400   \n",
       "2020-06-30  99.3999  360.00  197.7400  1003.7300  94.2100  360.08  197.8816   \n",
       "2020-06-29  92.0000  351.28  193.5500   948.5201  90.7100  353.25  195.7800   \n",
       "2020-06-26  92.5800  353.02  194.8800   954.8700  90.4061  364.41  199.7300   \n",
       "2020-06-25  93.5500  357.57  195.4675   937.1500  91.0000  360.70  197.8000   \n",
       "\n",
       "Attributes                    Volume                               \n",
       "Symbols        TSLA   XLNX      AAPL      MSFT      TSLA     XLNX  \n",
       "Date                                                               \n",
       "2020-07-01  1083.00  98.09  27635351  32031722  13193927  4047680  \n",
       "2020-06-30  1006.50  95.68  35055821  34310283  16918501  9279488  \n",
       "2020-06-29   969.01  91.30  32661519  26701586   9026404  2264371  \n",
       "2020-06-26   994.78  91.93  51314211  54675780   8854908  3279064  \n",
       "2020-06-25   954.27  92.65  34380628  27803933   9254549  2178478  "
      ]
     },
     "execution_count": 5,
     "metadata": {},
     "output_type": "execute_result"
    }
   ],
   "source": [
    "panel_data.head()"
   ]
  },
  {
   "cell_type": "code",
   "execution_count": 6,
   "metadata": {},
   "outputs": [],
   "source": [
    "close = panel_data['Close']\n",
    "high = panel_data['High']\n",
    "low = panel_data['Low']"
   ]
  },
  {
   "cell_type": "code",
   "execution_count": 7,
   "metadata": {},
   "outputs": [],
   "source": [
    "med = (high+low)/2"
   ]
  },
  {
   "cell_type": "code",
   "execution_count": 8,
   "metadata": {},
   "outputs": [
    {
     "data": {
      "text/html": [
       "<div>\n",
       "<style scoped>\n",
       "    .dataframe tbody tr th:only-of-type {\n",
       "        vertical-align: middle;\n",
       "    }\n",
       "\n",
       "    .dataframe tbody tr th {\n",
       "        vertical-align: top;\n",
       "    }\n",
       "\n",
       "    .dataframe thead th {\n",
       "        text-align: right;\n",
       "    }\n",
       "</style>\n",
       "<table border=\"1\" class=\"dataframe\">\n",
       "  <thead>\n",
       "    <tr style=\"text-align: right;\">\n",
       "      <th>Symbols</th>\n",
       "      <th>AAPL</th>\n",
       "      <th>MSFT</th>\n",
       "      <th>TSLA</th>\n",
       "      <th>XLNX</th>\n",
       "    </tr>\n",
       "    <tr>\n",
       "      <th>Date</th>\n",
       "      <th></th>\n",
       "      <th></th>\n",
       "      <th></th>\n",
       "      <th></th>\n",
       "    </tr>\n",
       "  </thead>\n",
       "  <tbody>\n",
       "    <tr>\n",
       "      <th>2020-07-01</th>\n",
       "      <td>365.6350</td>\n",
       "      <td>204.06000</td>\n",
       "      <td>1107.91500</td>\n",
       "      <td>95.79000</td>\n",
       "    </tr>\n",
       "    <tr>\n",
       "      <th>2020-06-30</th>\n",
       "      <td>362.9900</td>\n",
       "      <td>201.07000</td>\n",
       "      <td>1045.71000</td>\n",
       "      <td>96.80495</td>\n",
       "    </tr>\n",
       "    <tr>\n",
       "      <th>2020-06-29</th>\n",
       "      <td>356.7268</td>\n",
       "      <td>196.04000</td>\n",
       "      <td>979.26005</td>\n",
       "      <td>91.35500</td>\n",
       "    </tr>\n",
       "    <tr>\n",
       "      <th>2020-06-26</th>\n",
       "      <td>359.1700</td>\n",
       "      <td>197.38500</td>\n",
       "      <td>974.93500</td>\n",
       "      <td>91.49305</td>\n",
       "    </tr>\n",
       "    <tr>\n",
       "      <th>2020-06-25</th>\n",
       "      <td>361.2850</td>\n",
       "      <td>198.03875</td>\n",
       "      <td>961.56500</td>\n",
       "      <td>92.27500</td>\n",
       "    </tr>\n",
       "  </tbody>\n",
       "</table>\n",
       "</div>"
      ],
      "text/plain": [
       "Symbols         AAPL       MSFT        TSLA      XLNX\n",
       "Date                                                 \n",
       "2020-07-01  365.6350  204.06000  1107.91500  95.79000\n",
       "2020-06-30  362.9900  201.07000  1045.71000  96.80495\n",
       "2020-06-29  356.7268  196.04000   979.26005  91.35500\n",
       "2020-06-26  359.1700  197.38500   974.93500  91.49305\n",
       "2020-06-25  361.2850  198.03875   961.56500  92.27500"
      ]
     },
     "execution_count": 8,
     "metadata": {},
     "output_type": "execute_result"
    }
   ],
   "source": [
    "med.head()"
   ]
  },
  {
   "cell_type": "code",
   "execution_count": 9,
   "metadata": {},
   "outputs": [],
   "source": [
    "all_weekdays = pd.date_range(start=start_date, end=end_date, freq='B')\n"
   ]
  },
  {
   "cell_type": "code",
   "execution_count": 10,
   "metadata": {},
   "outputs": [],
   "source": [
    "# close = close.reindex(all_weekdays)\n",
    "med = med.reindex(all_weekdays)"
   ]
  },
  {
   "cell_type": "code",
   "execution_count": 11,
   "metadata": {},
   "outputs": [],
   "source": [
    "# close = close.fillna(method='ffill')"
   ]
  },
  {
   "cell_type": "code",
   "execution_count": 12,
   "metadata": {},
   "outputs": [
    {
     "name": "stdout",
     "output_type": "stream",
     "text": [
      "DatetimeIndex(['2015-07-06', '2015-07-07', '2015-07-08', '2015-07-09',\n",
      "               '2015-07-10', '2015-07-13', '2015-07-14', '2015-07-15',\n",
      "               '2015-07-16', '2015-07-17',\n",
      "               ...\n",
      "               '2020-06-18', '2020-06-19', '2020-06-22', '2020-06-23',\n",
      "               '2020-06-24', '2020-06-25', '2020-06-26', '2020-06-29',\n",
      "               '2020-06-30', '2020-07-01'],\n",
      "              dtype='datetime64[ns]', length=1303, freq='B')\n"
     ]
    }
   ],
   "source": [
    "print(all_weekdays)"
   ]
  },
  {
   "cell_type": "code",
   "execution_count": 13,
   "metadata": {},
   "outputs": [
    {
     "data": {
      "text/html": [
       "<div>\n",
       "<style scoped>\n",
       "    .dataframe tbody tr th:only-of-type {\n",
       "        vertical-align: middle;\n",
       "    }\n",
       "\n",
       "    .dataframe tbody tr th {\n",
       "        vertical-align: top;\n",
       "    }\n",
       "\n",
       "    .dataframe thead th {\n",
       "        text-align: right;\n",
       "    }\n",
       "</style>\n",
       "<table border=\"1\" class=\"dataframe\">\n",
       "  <thead>\n",
       "    <tr style=\"text-align: right;\">\n",
       "      <th>Symbols</th>\n",
       "      <th>AAPL</th>\n",
       "      <th>MSFT</th>\n",
       "      <th>TSLA</th>\n",
       "      <th>XLNX</th>\n",
       "    </tr>\n",
       "  </thead>\n",
       "  <tbody>\n",
       "    <tr>\n",
       "      <th>2015-07-06</th>\n",
       "      <td>115.700</td>\n",
       "      <td>40.0165</td>\n",
       "      <td>278.995</td>\n",
       "      <td>39.1270</td>\n",
       "    </tr>\n",
       "    <tr>\n",
       "      <th>2015-07-07</th>\n",
       "      <td>115.160</td>\n",
       "      <td>39.7350</td>\n",
       "      <td>267.985</td>\n",
       "      <td>38.8460</td>\n",
       "    </tr>\n",
       "    <tr>\n",
       "      <th>2015-07-08</th>\n",
       "      <td>113.900</td>\n",
       "      <td>40.2420</td>\n",
       "      <td>257.555</td>\n",
       "      <td>38.6565</td>\n",
       "    </tr>\n",
       "    <tr>\n",
       "      <th>2015-07-09</th>\n",
       "      <td>112.095</td>\n",
       "      <td>40.5990</td>\n",
       "      <td>259.870</td>\n",
       "      <td>38.3660</td>\n",
       "    </tr>\n",
       "    <tr>\n",
       "      <th>2015-07-10</th>\n",
       "      <td>112.915</td>\n",
       "      <td>40.5950</td>\n",
       "      <td>260.410</td>\n",
       "      <td>37.9595</td>\n",
       "    </tr>\n",
       "    <tr>\n",
       "      <th>2015-07-13</th>\n",
       "      <td>115.230</td>\n",
       "      <td>40.9860</td>\n",
       "      <td>259.300</td>\n",
       "      <td>38.0225</td>\n",
       "    </tr>\n",
       "    <tr>\n",
       "      <th>2015-07-14</th>\n",
       "      <td>115.850</td>\n",
       "      <td>41.3010</td>\n",
       "      <td>263.250</td>\n",
       "      <td>38.3865</td>\n",
       "    </tr>\n",
       "    <tr>\n",
       "      <th>2015-07-15</th>\n",
       "      <td>116.460</td>\n",
       "      <td>41.3210</td>\n",
       "      <td>264.785</td>\n",
       "      <td>38.3940</td>\n",
       "    </tr>\n",
       "    <tr>\n",
       "      <th>2015-07-16</th>\n",
       "      <td>117.930</td>\n",
       "      <td>41.9300</td>\n",
       "      <td>265.180</td>\n",
       "      <td>38.3055</td>\n",
       "    </tr>\n",
       "    <tr>\n",
       "      <th>2015-07-17</th>\n",
       "      <td>118.860</td>\n",
       "      <td>42.1000</td>\n",
       "      <td>271.895</td>\n",
       "      <td>38.1490</td>\n",
       "    </tr>\n",
       "    <tr>\n",
       "      <th>2015-07-20</th>\n",
       "      <td>121.495</td>\n",
       "      <td>42.3415</td>\n",
       "      <td>279.595</td>\n",
       "      <td>38.2385</td>\n",
       "    </tr>\n",
       "    <tr>\n",
       "      <th>2015-07-21</th>\n",
       "      <td>121.285</td>\n",
       "      <td>42.4500</td>\n",
       "      <td>270.025</td>\n",
       "      <td>37.8155</td>\n",
       "    </tr>\n",
       "    <tr>\n",
       "      <th>2015-07-22</th>\n",
       "      <td>114.045</td>\n",
       "      <td>41.6915</td>\n",
       "      <td>265.150</td>\n",
       "      <td>36.9325</td>\n",
       "    </tr>\n",
       "    <tr>\n",
       "      <th>2015-07-23</th>\n",
       "      <td>116.200</td>\n",
       "      <td>41.3255</td>\n",
       "      <td>267.585</td>\n",
       "      <td>37.3830</td>\n",
       "    </tr>\n",
       "    <tr>\n",
       "      <th>2015-07-24</th>\n",
       "      <td>115.035</td>\n",
       "      <td>41.6860</td>\n",
       "      <td>267.505</td>\n",
       "      <td>36.6700</td>\n",
       "    </tr>\n",
       "  </tbody>\n",
       "</table>\n",
       "</div>"
      ],
      "text/plain": [
       "Symbols        AAPL     MSFT     TSLA     XLNX\n",
       "2015-07-06  115.700  40.0165  278.995  39.1270\n",
       "2015-07-07  115.160  39.7350  267.985  38.8460\n",
       "2015-07-08  113.900  40.2420  257.555  38.6565\n",
       "2015-07-09  112.095  40.5990  259.870  38.3660\n",
       "2015-07-10  112.915  40.5950  260.410  37.9595\n",
       "2015-07-13  115.230  40.9860  259.300  38.0225\n",
       "2015-07-14  115.850  41.3010  263.250  38.3865\n",
       "2015-07-15  116.460  41.3210  264.785  38.3940\n",
       "2015-07-16  117.930  41.9300  265.180  38.3055\n",
       "2015-07-17  118.860  42.1000  271.895  38.1490\n",
       "2015-07-20  121.495  42.3415  279.595  38.2385\n",
       "2015-07-21  121.285  42.4500  270.025  37.8155\n",
       "2015-07-22  114.045  41.6915  265.150  36.9325\n",
       "2015-07-23  116.200  41.3255  267.585  37.3830\n",
       "2015-07-24  115.035  41.6860  267.505  36.6700"
      ]
     },
     "execution_count": 13,
     "metadata": {},
     "output_type": "execute_result"
    }
   ],
   "source": [
    "med.head(15)"
   ]
  },
  {
   "cell_type": "code",
   "execution_count": 14,
   "metadata": {},
   "outputs": [
    {
     "data": {
      "text/html": [
       "<div>\n",
       "<style scoped>\n",
       "    .dataframe tbody tr th:only-of-type {\n",
       "        vertical-align: middle;\n",
       "    }\n",
       "\n",
       "    .dataframe tbody tr th {\n",
       "        vertical-align: top;\n",
       "    }\n",
       "\n",
       "    .dataframe thead th {\n",
       "        text-align: right;\n",
       "    }\n",
       "</style>\n",
       "<table border=\"1\" class=\"dataframe\">\n",
       "  <thead>\n",
       "    <tr style=\"text-align: right;\">\n",
       "      <th>Symbols</th>\n",
       "      <th>AAPL</th>\n",
       "      <th>MSFT</th>\n",
       "      <th>TSLA</th>\n",
       "      <th>XLNX</th>\n",
       "    </tr>\n",
       "  </thead>\n",
       "  <tbody>\n",
       "    <tr>\n",
       "      <th>count</th>\n",
       "      <td>1258.000000</td>\n",
       "      <td>1258.000000</td>\n",
       "      <td>1258.000000</td>\n",
       "      <td>1258.000000</td>\n",
       "    </tr>\n",
       "    <tr>\n",
       "      <th>mean</th>\n",
       "      <td>167.384933</td>\n",
       "      <td>91.111741</td>\n",
       "      <td>318.705984</td>\n",
       "      <td>69.879898</td>\n",
       "    </tr>\n",
       "    <tr>\n",
       "      <th>std</th>\n",
       "      <td>63.772999</td>\n",
       "      <td>41.155806</td>\n",
       "      <td>154.239203</td>\n",
       "      <td>23.925861</td>\n",
       "    </tr>\n",
       "    <tr>\n",
       "      <th>min</th>\n",
       "      <td>85.428500</td>\n",
       "      <td>37.818500</td>\n",
       "      <td>148.355000</td>\n",
       "      <td>35.887500</td>\n",
       "    </tr>\n",
       "    <tr>\n",
       "      <th>25%</th>\n",
       "      <td>109.443750</td>\n",
       "      <td>53.998125</td>\n",
       "      <td>228.697500</td>\n",
       "      <td>49.177125</td>\n",
       "    </tr>\n",
       "    <tr>\n",
       "      <th>50%</th>\n",
       "      <td>160.270000</td>\n",
       "      <td>82.955750</td>\n",
       "      <td>283.365000</td>\n",
       "      <td>66.076000</td>\n",
       "    </tr>\n",
       "    <tr>\n",
       "      <th>75%</th>\n",
       "      <td>200.892500</td>\n",
       "      <td>117.161250</td>\n",
       "      <td>338.977500</td>\n",
       "      <td>87.608250</td>\n",
       "    </tr>\n",
       "    <tr>\n",
       "      <th>max</th>\n",
       "      <td>367.325050</td>\n",
       "      <td>204.060000</td>\n",
       "      <td>1107.915000</td>\n",
       "      <td>136.545000</td>\n",
       "    </tr>\n",
       "  </tbody>\n",
       "</table>\n",
       "</div>"
      ],
      "text/plain": [
       "Symbols         AAPL         MSFT         TSLA         XLNX\n",
       "count    1258.000000  1258.000000  1258.000000  1258.000000\n",
       "mean      167.384933    91.111741   318.705984    69.879898\n",
       "std        63.772999    41.155806   154.239203    23.925861\n",
       "min        85.428500    37.818500   148.355000    35.887500\n",
       "25%       109.443750    53.998125   228.697500    49.177125\n",
       "50%       160.270000    82.955750   283.365000    66.076000\n",
       "75%       200.892500   117.161250   338.977500    87.608250\n",
       "max       367.325050   204.060000  1107.915000   136.545000"
      ]
     },
     "execution_count": 14,
     "metadata": {},
     "output_type": "execute_result"
    }
   ],
   "source": [
    "med.describe()"
   ]
  },
  {
   "cell_type": "code",
   "execution_count": 15,
   "metadata": {},
   "outputs": [],
   "source": [
    "msft = med.loc[:, 'MSFT']\n",
    "tsla = med.loc[:, 'TSLA']"
   ]
  },
  {
   "cell_type": "code",
   "execution_count": 16,
   "metadata": {},
   "outputs": [],
   "source": [
    "# Calculate 20,50,&100 days moving averages of the median prices\n",
    "short_rolling_msft = msft.rolling(window=20).mean()\n",
    "med_rolling_msft = msft.rolling(window=50).mean()\n",
    "long_rolling_msft = msft.rolling(window=100).mean()"
   ]
  },
  {
   "cell_type": "code",
   "execution_count": 17,
   "metadata": {},
   "outputs": [],
   "source": [
    "# Calculate 20,50,&100 days moving averages of the median prices\n",
    "short_rolling_tsla = tsla.rolling(window=20).mean()\n",
    "med_rolling_tsla = tsla.rolling(window=50).mean()\n",
    "long_rolling_tsla = tsla.rolling(window=100).mean()"
   ]
  },
  {
   "cell_type": "code",
   "execution_count": 18,
   "metadata": {},
   "outputs": [
    {
     "data": {
      "text/plain": [
       "<matplotlib.legend.Legend at 0x7fcf4dec50d0>"
      ]
     },
     "execution_count": 18,
     "metadata": {},
     "output_type": "execute_result"
    },
    {
     "data": {
      "image/png": "[encoded data removed]",
      "text/plain": [
       "<Figure size 1152x648 with 1 Axes>"
      ]
     },
     "metadata": {
      "needs_background": "light"
     },
     "output_type": "display_data"
    }
   ],
   "source": [
    "fig, ax = plt.subplots(figsize=(16,9))\n",
    "\n",
    "ax.plot(msft.index, msft, label='MSFT')\n",
    "ax.plot(short_rolling_msft.index, short_rolling_msft, label='20 days rolling')\n",
    "ax.plot(short_rolling_msft.index, med_rolling_msft, label='50 days rolling')\n",
    "ax.plot(long_rolling_msft.index, long_rolling_msft, label='100 days rolling')\n",
    "\n",
    "ax.set_xlabel('Date')\n",
    "ax.set_ylabel('Adjusted Median Price ($)')\n",
    "ax.legend()"
   ]
  },
  {
   "cell_type": "code",
   "execution_count": 19,
   "metadata": {},
   "outputs": [
    {
     "data": {
      "text/plain": [
       "<matplotlib.legend.Legend at 0x7fcf51069b50>"
      ]
     },
     "execution_count": 19,
     "metadata": {},
     "output_type": "execute_result"
    },
    {
     "data": {
      "image/png": "[encoded data removed]",
      "text/plain": [
       "<Figure size 1152x648 with 1 Axes>"
      ]
     },
     "metadata": {
      "needs_background": "light"
     },
     "output_type": "display_data"
    }
   ],
   "source": [
    "fig, ax = plt.subplots(figsize=(16,9))\n",
    "\n",
    "ax.plot(tsla.index, tsla, label='tsla')\n",
    "# ax.plot(short_rolling_tsla.index, short_rolling_tsla, label='20 days rolling')\n",
    "ax.plot(short_rolling_tsla.index, med_rolling_tsla, label='50 days rolling')\n",
    "ax.plot(long_rolling_tsla.index, long_rolling_tsla, label='100 days rolling')\n",
    "\n",
    "ax.set_xlabel('Date')\n",
    "ax.set_ylabel('Adjusted Median Price ($)')\n",
    "\n",
    "ax.legend()"
   ]
  },
  {
   "cell_type": "code",
   "execution_count": null,
   "metadata": {},
   "outputs": [],
   "source": []
  }
 ],
 "metadata": {
  "kernelspec": {
   "display_name": "Pythonomy",
   "language": "python",
   "name": "pythonomy"
  },
  "language_info": {
   "codemirror_mode": {
    "name": "ipython",
    "version": 3
   },
   "file_extension": ".py",
   "mimetype": "text/x-python",
   "name": "python",
   "nbconvert_exporter": "python",
   "pygments_lexer": "ipython3",
   "version": "3.7.7"
  }
 },
 "nbformat": 4,
 "nbformat_minor": 4
}
